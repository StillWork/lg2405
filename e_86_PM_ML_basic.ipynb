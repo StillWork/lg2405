{
 "cells": [
  {
   "cell_type": "markdown",
   "metadata": {},
   "source": [
    "# 파이썬을 이용한 예지보수 실습\n",
    "\n",
    "- 파이썬 기초\n",
    " - 파일 다루기, 데이터프레임\n",
    "- 탐색적 분석\n",
    " - 설명적 분석, 기초 통계분석, 시각화\n",
    "- 데이터 전처리\n",
    " - 결측치 처리, 스케일링\n",
    "- 예측분석\n",
    " - 예지보수, 선형모델, 회귀예측, 분류예측\n",
    "- 머신러닝\n",
    " - 머신러닝, 트리모델, 신경망 모델\n",
    "- 이상치 탐지\n",
    " - 차원축소, PCA, t-SNE"
   ]
  },
  {
   "cell_type": "markdown",
   "metadata": {
    "id": "JBlDLdLgp2Rz"
   },
   "source": [
    "# 예지보수 \n",
    "\n",
    "- Predictive Maintenance (PM)\n",
    " - 대상: 장비, 부품, 제품\n",
    "- 보수의 종류\n",
    "  > 고장 후 보수: 기기가 고장나면 보수를 하는 것   \n",
    "  > 정기적인 보수: 일정한 시간 간격으로 보수를 하는 것    \n",
    "  > 예지 보수: 고장을 예측하여 적절한 시점에 보수를 하는 것    \n",
    "- 예제\n",
    "  - 항공기 엔진 고장 시점 및 일정 기간내 고장발생 여부 예측"
   ]
  },
  {
   "cell_type": "markdown",
   "metadata": {},
   "source": [
    "## 머신러닝을 이용한 예측 성능 향상\n",
    "\n",
    "- 항공기 엔진 운영 데이터 (센서 및 설정 데이터)를 보고 고장시점을 예측하는 문제\n",
    "- 머신러닝의 회귀 및 분류 예측 모델을 사용한다\n",
    "- 신경망의 LSTM 모델을 사용한다\n",
    "- 참고 [MS Azure](https://gallery.azure.ai/Experiment/Predictive-Maintenance-Step-1-of-3-data-preparation-and-feature-engineering-2)\n"
   ]
  },
  {
   "cell_type": "markdown",
   "metadata": {
    "id": "AI2ZY1Omp2R1"
   },
   "source": [
    "## PM 회귀 모델\n",
    "- TTF(time to fail): 고장까지 남은 시간을 예측하는 회귀 모델로 구현\n",
    "<img src=\"https://github.com/data-labs/image/blob/main/%E1%84%89%E1%85%B3%E1%84%8F%E1%85%B3%E1%84%85%E1%85%B5%E1%86%AB%E1%84%89%E1%85%A3%E1%86%BA%202021-02-15%20%E1%84%8B%E1%85%A9%E1%84%92%E1%85%AE%2010.02.12.png?raw=1\" align='left'>"
   ]
  },
  {
   "cell_type": "markdown",
   "metadata": {
    "id": "8JWJVeU9p2R2"
   },
   "source": [
    "## PM 분류 모델 (이진 분류)\n",
    "- U (Unsafe): TTF가 주어진 경계치 이하로 낮은 위험한 상태\n",
    "- U 값이 0/1을 갖는 이진 분류 모델로 구현\n",
    "<img src=\"https://github.com/data-labs/image/blob/main/%E1%84%89%E1%85%B3%E1%84%8F%E1%85%B3%E1%84%85%E1%85%B5%E1%86%AB%E1%84%89%E1%85%A3%E1%86%BA%202021-02-15%20%E1%84%8B%E1%85%A9%E1%84%92%E1%85%AE%2010.03.35.png?raw=1\" align='left'>"
   ]
  },
  {
   "cell_type": "markdown",
   "metadata": {},
   "source": [
    "# 파이썬 기초\n",
    "\n",
    "- 라이브러리 사용하기: import로 필요한 라이브러리를 불러온다"
   ]
  },
  {
   "cell_type": "markdown",
   "metadata": {
    "id": "v2zcqFJq-A7j"
   },
   "source": [
    "# Import"
   ]
  },
  {
   "cell_type": "code",
   "execution_count": null,
   "metadata": {
    "id": "SQyS8RKM94_v"
   },
   "outputs": [],
   "source": [
    "import pandas as pd\n",
    "import numpy as np\n",
    "import matplotlib.pyplot as plt\n",
    "%config InlineBackend.figure_format = 'retina'\n",
    "import keras\n",
    "from keras import Sequential\n",
    "from sklearn.ensemble import RandomForestClassifier, RandomForestRegressor\n",
    "from sklearn.preprocessing import MinMaxScaler\n",
    "from lightgbm import LGBMClassifier, LGBMRegressor\n",
    "from keras.layers import Dropout, LSTM, Dense, Activation\n",
    "from sklearn.metrics import r2_score\n",
    "from sklearn.metrics import precision_recall_curve, average_precision_score\n",
    "from sklearn.metrics import confusion_matrix, classification_report"
   ]
  },
  {
   "cell_type": "markdown",
   "metadata": {
    "collapsed": true,
    "id": "EobVa7hY4jtO"
   },
   "source": [
    "# 데이터\n",
    "\n",
    "- 항공기 엔진 운영 센서 및 설정 데이터와 고장시점 정보 데이터를 사용한다 (마이크로소프트사의 Azure에서 제공)\n",
    "- 공개 데이터 주소: [https://azuremlsamples.azureml.net/templatedata/PM_train.txt](https://azuremlsamples.azureml.net/templatedata/PM_train.txt)\n",
    "- 모델을 만드는데 사용할 훈련 데이터에는 엔진별 가동 데이터와 수명정보가 있고 (고장시점까지 데이터가 주어진다)\n",
    "- 최종 개발한 모델의 성능을 테스트하는데 사용할 데이터에는 엔진 가동 정보만 있고 정답은 (향후 잔여수명)은 별도의 truth 데이터로 제공한다"
   ]
  },
  {
   "cell_type": "markdown",
   "metadata": {},
   "source": [
    "## 훈련 데이터 다루기\n",
    "\n",
    "- 파이썬의 판다스(pandas) 라이브러리가 제공하는 read_csv() 함수로 데이터를 읽는다\n",
    "- 데이터프레임(DataFrame) 형태로 읽는다\n",
    " - 데이터프레임은 2차원, 테이블 구조의 데이터를 다루며 액셀과 같이 편리한 기능을 수행할 수 있다\n",
    " - 행과 열로 구성되며, 행은 샘플을 구분하고 열은 특성(features)을 구분한다\n"
   ]
  },
  {
   "cell_type": "code",
   "execution_count": null,
   "metadata": {},
   "outputs": [],
   "source": [
    "# 제공 데이터 URL 주소\n",
    "data_address = \"https://azuremlsamples.azureml.net/templatedata/PM_train.txt\""
   ]
  },
  {
   "cell_type": "code",
   "execution_count": null,
   "metadata": {},
   "outputs": [],
   "source": [
    "# 파이썬의 판다스 라이브러리가 제공하는 read_csv() 함수로 데이터를 읽는다\n",
    "# 데이터프레임 형태로 읽는다\n",
    "\n",
    "import pandas as pd\n",
    "df = pd.read_csv(data_address, sep=\" \", header=None)"
   ]
  },
  {
   "cell_type": "code",
   "execution_count": null,
   "metadata": {},
   "outputs": [],
   "source": [
    "df[:3]"
   ]
  },
  {
   "cell_type": "code",
   "execution_count": null,
   "metadata": {},
   "outputs": [],
   "source": [
    "df.info()"
   ]
  },
  {
   "cell_type": "code",
   "execution_count": null,
   "metadata": {
    "id": "6eqFV7-q4jtO",
    "scrolled": true
   },
   "outputs": [],
   "source": [
    "# 빈 컬럼 삭제\n",
    "df.drop(df.columns[[26, 27]], axis=1, inplace=True)\n",
    "df[:3]"
   ]
  },
  {
   "cell_type": "code",
   "execution_count": null,
   "metadata": {},
   "outputs": [],
   "source": [
    "# 주어진 컬럼 이름 지정\n",
    "\n",
    "column_names = ['id', 'cycle', 'setting1', 'setting2', 'setting3', 's1', 's2', 's3',\n",
    "                     's4', 's5', 's6', 's7', 's8', 's9', 's10', 's11', 's12', 's13', 's14',\n",
    "                     's15', 's16', 's17', 's18', 's19', 's20', 's21']\n",
    "df.columns = column_names\n",
    "df[:3]"
   ]
  },
  {
   "cell_type": "markdown",
   "metadata": {},
   "source": [
    "## 고장 시점 정보 얻기\n",
    "- 총 100개의 엔진에 대해서 각 엔진별로 고장나기 전까지의 데이터가 주어져 있다 [고장시점 정보 보기](https://az712634.vo.msecnd.net/samplesimg/v1/T4/labeling_1.png)"
   ]
  },
  {
   "cell_type": "markdown",
   "metadata": {
    "id": "Y9hv9neg4jtR"
   },
   "source": [
    "## 레이블(y)  추가\n",
    "- 회귀 분석에서는 잔여시간(TTF: Time to Fail)을 예측하며 각 상태(State) 값을 보고 앞으로 남은 잔여시간을 예측하는 회귀 모델을 만든다\n",
    "- 분류 분석에서는 앞으로 특정 기간 이내에 고장 날지 여부를 예측한다. 예를 들어 30 사이클 이내에 고장 여부를 분류한다 (0/1 구분)\n",
    "- 회귀 및 분류를 위한 레이블을 각각 만들겠다"
   ]
  },
  {
   "cell_type": "markdown",
   "metadata": {
    "id": "YqzGXuxc_hOd"
   },
   "source": [
    "- RUL(Remaining Useful Life)\n",
    "  - 같은 엔진 ID에 대해서 최대 cycle 값이 \"수명\"을 나타낸다\n",
    "  - 이 수명값을 rul 데이터프레임에 저장한다\n",
    "  - 같은 엔진들 즉 같은 'id'를 같는 샘플들을 별도의 데이터프레임으로 만드는 groupby를 사용한다"
   ]
  },
  {
   "cell_type": "markdown",
   "metadata": {},
   "source": [
    "## 판다스의 그룹바이 사용\n",
    "- 100개 엔진별 데이터프레임을 내부적으로 만든다"
   ]
  },
  {
   "cell_type": "code",
   "execution_count": null,
   "metadata": {},
   "outputs": [],
   "source": [
    "g = df.groupby('id')\n",
    "g"
   ]
  },
  {
   "cell_type": "code",
   "execution_count": null,
   "metadata": {},
   "outputs": [],
   "source": [
    "# 서브 그룹의 갯수 (엔진의 수이 100개임)\n",
    "g.ngroups"
   ]
  },
  {
   "cell_type": "code",
   "execution_count": null,
   "metadata": {},
   "outputs": [],
   "source": [
    "g.get_group(1)"
   ]
  },
  {
   "cell_type": "code",
   "execution_count": null,
   "metadata": {},
   "outputs": [],
   "source": [
    "g.get_group(1)['cycle']"
   ]
  },
  {
   "cell_type": "code",
   "execution_count": null,
   "metadata": {},
   "outputs": [],
   "source": [
    "g.get_group(1)['cycle'].max()"
   ]
  },
  {
   "cell_type": "code",
   "execution_count": null,
   "metadata": {},
   "outputs": [],
   "source": [
    "g.get_group(2)"
   ]
  },
  {
   "cell_type": "code",
   "execution_count": null,
   "metadata": {},
   "outputs": [],
   "source": [
    "g.get_group(2)['cycle'].max()"
   ]
  },
  {
   "cell_type": "markdown",
   "metadata": {},
   "source": [
    "### 100개 엔진 각각의 RUL 구하기"
   ]
  },
  {
   "cell_type": "code",
   "execution_count": null,
   "metadata": {},
   "outputs": [],
   "source": [
    "df.groupby('id')['cycle'].max()"
   ]
  },
  {
   "cell_type": "code",
   "execution_count": null,
   "metadata": {},
   "outputs": [],
   "source": [
    "pd.DataFrame(df.groupby('id')['cycle'].max())"
   ]
  },
  {
   "cell_type": "code",
   "execution_count": null,
   "metadata": {
    "colab": {
     "base_uri": "https://localhost:8080/",
     "height": 542
    },
    "id": "fDdWJr_m4jtR",
    "outputId": "6857e267-8efc-4046-9a79-7b4c6a065863",
    "scrolled": true
   },
   "outputs": [],
   "source": [
    "# 모든 행에 대해서 잔여수명 레이블 추가\n",
    "# rul 데이터프레임에서 최대 수명을 max라고 지정\n",
    "\n",
    "rul = pd.DataFrame(df.groupby('id')['cycle'].max()).reset_index()\n",
    "rul.columns = ['id', 'max']\n",
    "rul"
   ]
  },
  {
   "cell_type": "markdown",
   "metadata": {},
   "source": [
    "## 엔진 고장시점 추가\n",
    "\n",
    "- 고장 시점(max)에서 현재 cycle을 빼면 잔여수명(RUL)이 된다"
   ]
  },
  {
   "cell_type": "code",
   "execution_count": null,
   "metadata": {},
   "outputs": [],
   "source": [
    "# 두개의 데이터프레임 합치기 merge\n",
    "df = df.merge(rul, on=['id'], how='left')"
   ]
  },
  {
   "cell_type": "code",
   "execution_count": null,
   "metadata": {},
   "outputs": [],
   "source": [
    "df[:3]"
   ]
  },
  {
   "cell_type": "code",
   "execution_count": null,
   "metadata": {},
   "outputs": [],
   "source": [
    "df['RUL'] = df['max'] - df['cycle']\n",
    "df[:3]"
   ]
  },
  {
   "cell_type": "code",
   "execution_count": null,
   "metadata": {
    "scrolled": true
   },
   "outputs": [],
   "source": [
    "# max 컬럼은 필요없으므로 삭제한다\n",
    "df.drop('max', axis=1, inplace=True)\n",
    "df[:3]"
   ]
  },
  {
   "cell_type": "markdown",
   "metadata": {
    "id": "n_pgwgVs_1aY"
   },
   "source": [
    "## 이진 분류용 레이블\n",
    "- 이진분류를 위해서, 향후 30 사이클 이내에 고장이 날 지를 예측하는 이진 분류용 레이블을 만든다"
   ]
  },
  {
   "cell_type": "code",
   "execution_count": null,
   "metadata": {
    "colab": {
     "base_uri": "https://localhost:8080/",
     "height": 299
    },
    "id": "P1awc7lu4jtS",
    "outputId": "2c4edd6e-69c5-467f-f7cb-fc3d1a4f7e9e",
    "scrolled": false
   },
   "outputs": [],
   "source": [
    "# 이진분류\n",
    "w = 30\n",
    "df['label'] = np.where(df['RUL'] <= w, 1, 0 )\n",
    "df.head()"
   ]
  },
  {
   "cell_type": "code",
   "execution_count": null,
   "metadata": {},
   "outputs": [],
   "source": [
    "df[185:195]"
   ]
  },
  {
   "cell_type": "code",
   "execution_count": null,
   "metadata": {},
   "outputs": [],
   "source": [
    "features = ['setting1','setting2','setting3','s1','s2','s3','s4','s5','s6','s7','s8','s9','s10','s11','s12','s13','s14','s15','s16','s17','s18','s19','s20','s21']\n",
    "\n",
    "# 목적변수인 RUL과 상관계수를 본다\n",
    "df[features].corrwith(df.RUL).sort_values(ascending=False)"
   ]
  },
  {
   "cell_type": "code",
   "execution_count": null,
   "metadata": {},
   "outputs": [],
   "source": [
    "discard = ['setting3','s1','s5','s10','s16','s18','s19']\n",
    "for s in discard:\n",
    "    plt.figure(figsize=(8, 2))\n",
    "    df[s].plot()\n",
    "    plt.show()"
   ]
  },
  {
   "cell_type": "markdown",
   "metadata": {
    "id": "nuPAuLyP_9NF"
   },
   "source": [
    "## 스케일링\n",
    "- 모든 센서 값의 평균값이 0, 표준편차가 1 이 되도록 스케일링한다 (표준 스케일링)"
   ]
  },
  {
   "cell_type": "code",
   "execution_count": null,
   "metadata": {},
   "outputs": [],
   "source": [
    "discard"
   ]
  },
  {
   "cell_type": "code",
   "execution_count": null,
   "metadata": {},
   "outputs": [],
   "source": [
    "# 모든 센서 데이터 사용\n",
    "# features = ['setting1', 'setting2', 'setting3', 's1', 's2', 's3',\n",
    "#             's4', 's5', 's6', 's7', 's8', 's9', 's10', 's11', 's12', 's13', 's14',\n",
    "#             's15', 's16', 's17', 's18', 's19', 's20', 's21']\n",
    "\n",
    "# 일부 센서 데이터 사용\n",
    "features = ['setting1','setting2','s2','s3','s4','s6','s7','s8','s9','s11','s12','s13','s14','s15','s17','s20','s21']\n"
   ]
  },
  {
   "cell_type": "code",
   "execution_count": null,
   "metadata": {},
   "outputs": [],
   "source": [
    "from sklearn.preprocessing import StandardScaler\n",
    "\n",
    "scaler = StandardScaler()\n",
    "df[features] = scaler.fit_transform(df[features])\n",
    "df[:3]"
   ]
  },
  {
   "cell_type": "code",
   "execution_count": null,
   "metadata": {},
   "outputs": [],
   "source": [
    "# 일부 데이터 사용\n",
    "df_backup = df.copy()\n",
    "df = df.drop(discard, axis=1)\n",
    "df[:3]"
   ]
  },
  {
   "cell_type": "code",
   "execution_count": null,
   "metadata": {},
   "outputs": [],
   "source": []
  },
  {
   "cell_type": "markdown",
   "metadata": {
    "id": "Wcc-M5Fy4jtT"
   },
   "source": [
    "## 테스트 데이터 전처리\n",
    "- 훈련 데이터와 반드시 동일한 전처리를 해야 한다\n",
    "- (주의) 훈련 데이터에서 사용한 스케일러를 사용한다\n",
    " - min_max_scaler.transform()를 사용해야 함"
   ]
  },
  {
   "cell_type": "code",
   "execution_count": null,
   "metadata": {
    "colab": {
     "base_uri": "https://localhost:8080/",
     "height": 299
    },
    "id": "GqIMsANz4jtT",
    "outputId": "a6521a15-7a38-4224-99e0-a6e2c8fc744f"
   },
   "outputs": [],
   "source": [
    "norm_test_df = pd.DataFrame(min_max_scaler.transform(test_df[cols_normalize]),\n",
    "                            columns=cols_normalize,\n",
    "                            index=test_df.index)\n",
    "test_join_df = test_df[test_df.columns.difference(cols_normalize)].join(norm_test_df)\n",
    "test_df = test_join_df.reindex(columns = test_df.columns)\n",
    "test_df = test_df.reset_index(drop=True)\n",
    "test_df.head()"
   ]
  },
  {
   "cell_type": "markdown",
   "metadata": {
    "id": "fgN6xJ6c4jtT"
   },
   "source": [
    "- 정답 데이터를 테스트 데이터에 추가하기 위해서 truth 정보를 이용한다"
   ]
  },
  {
   "cell_type": "code",
   "execution_count": null,
   "metadata": {
    "id": "Xi3e5FV14jtT"
   },
   "outputs": [],
   "source": [
    "# 테스트 데이터에 정답 잔여 수명 컬럼을 추가한다\n",
    "rul = pd.DataFrame(test_df.groupby('id')['cycle'].max()).reset_index()\n",
    "rul.columns = ['id', 'max']\n",
    "truth_df.columns = ['more']\n",
    "truth_df['id'] = truth_df.index + 1\n",
    "truth_df['max'] = rul['max'] + truth_df['more']\n",
    "truth_df.drop('more', axis=1, inplace=True)"
   ]
  },
  {
   "cell_type": "code",
   "execution_count": null,
   "metadata": {
    "colab": {
     "base_uri": "https://localhost:8080/",
     "height": 299
    },
    "id": "lDZrgTzl4jtT",
    "outputId": "8ad51ef8-c572-4c33-8065-356971acf07a"
   },
   "outputs": [],
   "source": [
    "# 각 행별로 잔여수명을 계산한다\n",
    "test_df = test_df.merge(truth_df, on=['id'], how='left')\n",
    "test_df['RUL'] = test_df['max'] - test_df['cycle']\n",
    "test_df.drop('max', axis=1, inplace=True)\n",
    "test_df.head()"
   ]
  },
  {
   "cell_type": "code",
   "execution_count": null,
   "metadata": {
    "colab": {
     "base_uri": "https://localhost:8080/",
     "height": 299
    },
    "id": "UH0kd7aO4jtU",
    "outputId": "5707cdfc-199f-4d9d-ced6-74599bec2012"
   },
   "outputs": [],
   "source": [
    "# 분류를 위한 레이블 추가\n",
    "test_df['label'] = np.where(test_df['RUL'] <= w, 1, 0 )\n",
    "test_df.head()"
   ]
  },
  {
   "cell_type": "markdown",
   "metadata": {
    "id": "ciadAwjZAJ3Q"
   },
   "source": [
    "# 탐색적 분석"
   ]
  },
  {
   "cell_type": "markdown",
   "metadata": {
    "id": "Jobwc44rrOeL"
   },
   "source": [
    "### 시각화\n",
    "\n",
    "- 여러 특성의 시계열 변화를 파악하는 함수를 정의한다\n",
    "- 센서 s에 대해서 랜덤하게 선택한 임의의 엔진 데이터 보기 (튜플으로 입력)"
   ]
  },
  {
   "cell_type": "code",
   "execution_count": null,
   "metadata": {},
   "outputs": [],
   "source": [
    "df2 = df[['cycle', 's12']]\n",
    "df2[:3]"
   ]
  },
  {
   "cell_type": "code",
   "execution_count": null,
   "metadata": {
    "colab": {
     "base_uri": "https://localhost:8080/",
     "height": 776
    },
    "id": "s5cVHjyurHuO",
    "outputId": "bd9f061e-9314-4456-9e7d-c999352f62a3"
   },
   "outputs": [],
   "source": [
    "import numpy as np\n",
    "import matplotlib.pyplot as plt\n",
    "%config InlineBackend.figure_format = 'retina'\n",
    "\n",
    "def plot_time_series(df, s, engines):\n",
    "    for e in engines:        \n",
    "        plt.figure(figsize=(8, 2))\n",
    "        df2 = df[['cycle', s]][df.id == e]\n",
    "        plt.plot(df2['cycle'],df2[s])\n",
    "        plt.show()"
   ]
  },
  {
   "cell_type": "code",
   "execution_count": null,
   "metadata": {},
   "outputs": [],
   "source": [
    "plot_time_series(df, 's12',[1,2,3])"
   ]
  },
  {
   "cell_type": "code",
   "execution_count": null,
   "metadata": {
    "colab": {
     "base_uri": "https://localhost:8080/",
     "height": 776
    },
    "id": "t4BVwP27rU3d",
    "outputId": "844403a3-8acb-4acd-bb3c-5c9de54f38c3"
   },
   "outputs": [],
   "source": [
    "plot_time_series(df, 's11',[1,2,3,4,5])"
   ]
  },
  {
   "cell_type": "markdown",
   "metadata": {
    "id": "7iEk1gHlL9PD"
   },
   "source": [
    "## 회귀모델\n",
    "- 학습 및 검증 데이터 나누기"
   ]
  },
  {
   "cell_type": "code",
   "execution_count": null,
   "metadata": {},
   "outputs": [],
   "source": [
    "df[:3]"
   ]
  },
  {
   "cell_type": "code",
   "execution_count": null,
   "metadata": {},
   "outputs": [],
   "source": [
    "df.columns"
   ]
  },
  {
   "cell_type": "markdown",
   "metadata": {},
   "source": [
    "# 모델 선택, 학습, 사용\n",
    "\n",
    "- (1) 머신러닝에서 사용할 모델을 선택하고 생성한다\n",
    "- (2) 훈련 데이터를 사용하여 모델을 학습시킨다 (최적의 파라미터를 구한다)\n",
    "- (3) 검증 데이터를 사용하여 모델의 동작을 검증하고 성능을 평가한다\n",
    "- (4) 모델 훈련이나 검증에 한번도 사용하지 않은 별도의(hold out) 테스트 데이터를 사용하여 모델 성능을 최종 평가한다\n",
    "\n",
    "<img src =\"https://raw.githubusercontent.com/data-labs/image/main/%E1%84%89%E1%85%B3%E1%84%8F%E1%85%B3%E1%84%85%E1%85%B5%E1%86%AB%E1%84%89%E1%85%A3%E1%86%BA%202021-01-09%20%E1%84%8B%E1%85%A9%E1%84%92%E1%85%AE%204.02.11.png?raw=1\" width=450 align='left'>"
   ]
  },
  {
   "cell_type": "markdown",
   "metadata": {},
   "source": [
    "## 훈련 및 검증 데이터 나누기"
   ]
  },
  {
   "cell_type": "markdown",
   "metadata": {},
   "source": [
    "- 주어진 샘플 데이터(X, y)를 훈련용과 검증용으로 랜덤하게 나누기 위해서 train_test_split 함수를 주로 사용한다\n",
    " - 샘플의 순서를 랜덤하게 섞어서 X_train, X_test 등으로 나눈다"
   ]
  },
  {
   "cell_type": "markdown",
   "metadata": {},
   "source": [
    "<img src=\"https://raw.githubusercontent.com/data-labs/image/main/%E1%84%89%E1%85%B3%E1%84%8F%E1%85%B3%E1%84%85%E1%85%B5%E1%86%AB%E1%84%89%E1%85%A3%E1%86%BA%202020-12-29%20%E1%84%8B%E1%85%A9%E1%84%92%E1%85%AE%2011.45.47.png?raw=1\" width=300 align='left'>"
   ]
  },
  {
   "cell_type": "code",
   "execution_count": null,
   "metadata": {
    "scrolled": true
   },
   "outputs": [],
   "source": [
    "df.shape"
   ]
  },
  {
   "cell_type": "markdown",
   "metadata": {},
   "source": [
    "## 훈련 데이터로 75개의 엔진 데이터 사용"
   ]
  },
  {
   "cell_type": "code",
   "execution_count": null,
   "metadata": {},
   "outputs": [],
   "source": [
    "df_train = df[df.id < 76]\n",
    "df_test = df[df.id >= 76]"
   ]
  },
  {
   "cell_type": "code",
   "execution_count": null,
   "metadata": {},
   "outputs": [],
   "source": [
    "X_train = df_train[features]\n",
    "X_train"
   ]
  },
  {
   "cell_type": "markdown",
   "metadata": {},
   "source": [
    "## 회귀 분석\n",
    "\n",
    " - y로 RUL을 사용한다"
   ]
  },
  {
   "cell_type": "code",
   "execution_count": null,
   "metadata": {},
   "outputs": [],
   "source": [
    "y_train = df_train.RUL\n",
    "y_train"
   ]
  },
  {
   "cell_type": "markdown",
   "metadata": {},
   "source": [
    "## 검증 데이터 준비"
   ]
  },
  {
   "cell_type": "code",
   "execution_count": null,
   "metadata": {},
   "outputs": [],
   "source": [
    "X_test = df_test[features]\n",
    "y_test = df_test.RUL"
   ]
  },
  {
   "cell_type": "markdown",
   "metadata": {},
   "source": [
    "# 머신러닝 모델 만들기"
   ]
  },
  {
   "cell_type": "code",
   "execution_count": null,
   "metadata": {
    "colab": {
     "base_uri": "https://localhost:8080/",
     "height": 442
    },
    "id": "XoadohFMr4yg",
    "outputId": "c7b6cade-84d4-48c6-a581-462f656c1fdd"
   },
   "outputs": [],
   "source": [
    "from sklearn.linear_model import LinearRegression\n",
    "lin = LinearRegression()\n",
    "lin.fit(X_train, y_train)\n",
    "y_pred = lin.predict(X_test)"
   ]
  },
  {
   "cell_type": "markdown",
   "metadata": {},
   "source": [
    "## 회귀 모델 성능 평가\n",
    "- 회귀 모델의 성능을 평가하는 척도로 기본적으로 R-Squared를 사용하며 MAE, RMSE 등을 참고로 본다\n",
    " - MAE: mean absolute error  \n",
    " - MSE: mean squared error    \n",
    " - RMSE: root MSE  "
   ]
  },
  {
   "cell_type": "markdown",
   "metadata": {},
   "source": [
    "$MAE = $$1\\over{N}$$ \\sum |y_{i} - \\hat{y}|$\n",
    "\n",
    "$MSE = $$1\\over{N}$$ \\sum (y_{i} - \\hat{y})^{2}$\n",
    "\n",
    "$RMSE = \\sqrt{MSE}$\n",
    "\n",
    "$R^{2} = 1$-$\\sum(y_{i}-\\hat{y})^{2}\\over{\\sum(y_{i}-\\bar{y})^{2}}$ $= 1$-$MSE\\over{Variance}$  \n",
    " >  $y$ :  실제값, $\\hat{y}$ :  예측치, $\\bar{y}$ :  평균치\n",
    " \n",
    "-  R-Squared\n",
    " - 회귀 성능의 기본적인 평가 지표\n",
    " - MSE를 분산으로 정규화한 값을 사용한다\n",
    " - R-sqaured 값은 1에 가까울수록 완벽한 예측을 수행한 것이고, 0 근처이면 오차 평균치가 표준편차 정도인 경우이다"
   ]
  },
  {
   "cell_type": "code",
   "execution_count": null,
   "metadata": {
    "id": "SphYNX3WCMZ3"
   },
   "outputs": [],
   "source": [
    "def show_regression_result(y_test, y_pred, N=100):\n",
    "    y_test = y_test.values\n",
    "    plt.rc('figure', figsize=(6,4))\n",
    "    error = y_pred - y_test\n",
    "    print(\"MAE=\", np.abs(error).mean())\n",
    "    print(\"rmse=\", np.sqrt((error**2).mean()))\n",
    "    print(\"max error=\", max(abs(error)))\n",
    "    print(\"R2=\",r2_score(y_test, y_pred))\n",
    "    \n",
    "    if N > 0:\n",
    "      plt.plot(y_test[:N], 'r.-', label='y_test')\n",
    "      plt.plot(y_pred[:N], 'b.-', label='y_pred')\n",
    "      plt.legend()\n",
    "      plt.show()"
   ]
  },
  {
   "cell_type": "code",
   "execution_count": null,
   "metadata": {},
   "outputs": [],
   "source": [
    "from sklearn.metrics import mean_squared_error, mean_absolute_error\n",
    "from sklearn.metrics import r2_score  "
   ]
  },
  {
   "cell_type": "code",
   "execution_count": null,
   "metadata": {},
   "outputs": [],
   "source": [
    "lin.coef_"
   ]
  },
  {
   "cell_type": "code",
   "execution_count": null,
   "metadata": {},
   "outputs": [],
   "source": [
    "show_regression_result(y_test, y_pred, 1000)"
   ]
  },
  {
   "cell_type": "code",
   "execution_count": null,
   "metadata": {},
   "outputs": [],
   "source": [
    "def plot_features_weights(features, weights):\n",
    "\n",
    "    W = pd.DataFrame({'Weights':weights}, index=features)\n",
    "    W = W.sort_values(by='Weights', ascending=True)\n",
    "    W.plot(kind='barh', figsize=(8, 6))"
   ]
  },
  {
   "cell_type": "code",
   "execution_count": null,
   "metadata": {},
   "outputs": [],
   "source": [
    "plot_features_weights(X_train.columns, lin.coef_)"
   ]
  },
  {
   "cell_type": "code",
   "execution_count": null,
   "metadata": {
    "colab": {
     "base_uri": "https://localhost:8080/",
     "height": 437
    },
    "id": "yB4YUZBFMeZf",
    "outputId": "a8bf39c2-b054-427b-cc71-b964dccf093d"
   },
   "outputs": [],
   "source": [
    "from sklearn.ensemble import RandomForestClassifier, RandomForestRegressor\n",
    "\n",
    "rfr = RandomForestRegressor()\n",
    "rfr.fit(X_train, y_train)\n",
    "y_pred = rfr.predict(X_test)\n",
    "show_regression_result(y_test, y_pred, 1000)"
   ]
  },
  {
   "cell_type": "code",
   "execution_count": null,
   "metadata": {},
   "outputs": [],
   "source": [
    "plot_features_weights(X_train.columns, rfr.feature_importances_)"
   ]
  },
  {
   "cell_type": "code",
   "execution_count": null,
   "metadata": {
    "colab": {
     "base_uri": "https://localhost:8080/",
     "height": 527
    },
    "id": "96-x_4oBZG3h",
    "outputId": "75079c95-e837-414d-e704-2ce08b715605"
   },
   "outputs": [],
   "source": [
    "from lightgbm import LGBMClassifier, LGBMRegressor\n",
    "\n",
    "lgbm_r = LGBMRegressor()\n",
    "lgbm_r.fit(X_train, y_train)\n",
    "y_pred = lgbm_r.predict(X_test)\n",
    "show_regression_result(y_test, y_pred,1000)"
   ]
  },
  {
   "cell_type": "code",
   "execution_count": null,
   "metadata": {
    "id": "v3PK7cud4jtP"
   },
   "outputs": [],
   "source": [
    "# 테스트 데이터\n",
    "test_df = pd.read_csv('http://azuremlsamples.azureml.net/templatedata/PM_test.txt', sep=\" \", header=None)\n",
    "test_df.drop(test_df.columns[[26, 27]], axis=1, inplace=True)\n",
    "test_df.columns = ['id', 'cycle', 'setting1', 'setting2', 'setting3', 's1', 's2', 's3',\n",
    "                     's4', 's5', 's6', 's7', 's8', 's9', 's10', 's11', 's12', 's13', 's14',\n",
    "                     's15', 's16', 's17', 's18', 's19', 's20', 's21']"
   ]
  },
  {
   "cell_type": "code",
   "execution_count": null,
   "metadata": {
    "id": "hvJu-XLC4jtQ"
   },
   "outputs": [],
   "source": [
    "# 정답 (테스트데이터의 잔여 수명) 데이터\n",
    "truth_df = pd.read_csv('http://azuremlsamples.azureml.net/templatedata/PM_truth.txt', sep=\" \", header=None)\n",
    "truth_df.drop(truth_df.columns[[1]], axis=1, inplace=True)"
   ]
  },
  {
   "cell_type": "markdown",
   "metadata": {
    "id": "aXisQ86jORW4"
   },
   "source": [
    "## 분류 모델"
   ]
  },
  {
   "cell_type": "code",
   "execution_count": null,
   "metadata": {},
   "outputs": [],
   "source": [
    "train_df"
   ]
  },
  {
   "cell_type": "code",
   "execution_count": null,
   "metadata": {
    "id": "ohyB1xE8OVrM"
   },
   "outputs": [],
   "source": [
    "y_train_c = df_train['label']\n",
    "y_test_c = df_test['label']"
   ]
  },
  {
   "cell_type": "code",
   "execution_count": null,
   "metadata": {
    "id": "3gF3sccLO5eG"
   },
   "outputs": [],
   "source": [
    "from sklearn.metrics import confusion_matrix, classification_report\n",
    "\n",
    "def show_clf_result(y_test, y_pred):\n",
    "    print(confusion_matrix(y_test, y_pred))\n",
    "    print(classification_report(y_test, y_pred))"
   ]
  },
  {
   "cell_type": "code",
   "execution_count": null,
   "metadata": {},
   "outputs": [],
   "source": [
    "## 결정 트리를 이용한 이진 분류\n",
    "from sklearn.tree import DecisionTreeClassifier, DecisionTreeRegressor\n",
    "\n",
    "for depth in range(1,30,2):\n",
    "    dtc = DecisionTreeClassifier(max_depth=depth) \n",
    "    dtc.fit(X_train, y_train_c) \n",
    "    print(depth, dtc.score(X_test, y_test_c).round(4)) "
   ]
  },
  {
   "cell_type": "code",
   "execution_count": null,
   "metadata": {},
   "outputs": [],
   "source": [
    "dtc = DecisionTreeClassifier(max_depth=5) \n",
    "dtc.fit(X_train, y_train_c) \n",
    "dtc.score(X_test, y_test_c).round(4)"
   ]
  },
  {
   "cell_type": "code",
   "execution_count": null,
   "metadata": {},
   "outputs": [],
   "source": [
    "from sklearn import tree\n",
    "\n",
    "plt.figure(figsize=(22,12))\n",
    "\n",
    "tree.plot_tree(dtc, fontsize=10,\n",
    "              feature_names=list(X.columns),\n",
    "              filled=True,\n",
    "              impurity=True,\n",
    "              max_depth=2)\n",
    "plt.show()"
   ]
  },
  {
   "cell_type": "code",
   "execution_count": null,
   "metadata": {
    "id": "lAqlgSycOdhz"
   },
   "outputs": [],
   "source": [
    "rfc = RandomForestClassifier()\n",
    "rfc.fit(X_train, y_train_c)\n",
    "y_pred = rfc.predict(X_test)"
   ]
  },
  {
   "cell_type": "code",
   "execution_count": null,
   "metadata": {
    "colab": {
     "base_uri": "https://localhost:8080/"
    },
    "id": "BEfEwn3NO90g",
    "outputId": "36e0f79c-0b69-4eb8-931d-97531a27a9c1"
   },
   "outputs": [],
   "source": [
    "show_clf_result(y_test_c, y_pred)"
   ]
  },
  {
   "cell_type": "code",
   "execution_count": null,
   "metadata": {},
   "outputs": [],
   "source": [
    "df.shape"
   ]
  },
  {
   "cell_type": "markdown",
   "metadata": {
    "id": "Q5z1OkPj4jtU"
   },
   "source": [
    "# LSTM 사용\n",
    "\n",
    "- LSTM 윈도우를 충분히 크게 잡으면 윈도우 내의 중요한 신호를 파악하여 사용할 수 있다\n",
    "- 장단기 신호를 전파할 수 있다\n",
    "\n",
    "- LSTM 신경망은 (samples, time steps, features) 구조의 입력를 필요로 한다\n",
    "- colab에서 실행"
   ]
  },
  {
   "cell_type": "markdown",
   "metadata": {
    "id": "qhpn1SkycyIw"
   },
   "source": [
    "## 시퀀스를 n_steps 크기로 나누는 함수\n",
    "\n",
    "- (주의) 아래 함수는 마지막 샘플은 포함하지 않는다\n",
    "- 현재 데이터로 현재를 예측하는 것이 맞는지는 응용에 따라서 점검해야 한다"
   ]
  },
  {
   "cell_type": "code",
   "execution_count": null,
   "metadata": {},
   "outputs": [],
   "source": []
  },
  {
   "cell_type": "code",
   "execution_count": null,
   "metadata": {
    "id": "rBOHRvYttANg"
   },
   "outputs": [],
   "source": [
    "def split_seq(sequence, n_steps):\n",
    "  x = []\n",
    "  for i in range(len(sequence)- n_steps):\n",
    "    x.append(sequence[i:i+ n_steps])\n",
    "  return np.array(x)"
   ]
  },
  {
   "cell_type": "code",
   "execution_count": null,
   "metadata": {
    "colab": {
     "base_uri": "https://localhost:8080/"
    },
    "id": "Az5CidQyvJ6c",
    "outputId": "2529ff96-0425-4936-fee0-476da6d9e5fe"
   },
   "outputs": [],
   "source": [
    "# 예제\n",
    "# 특성수가 3인 시계열 데이터를 스텝수가 4가 되도록 3차원 어레이로 만드는 함수\n",
    "\n",
    "x = np.arange(30).reshape(-1,3)\n",
    "print(x)\n",
    "inp = split_seq(x,4)\n",
    "print('LSTM 모델 입력용 데이터:',inp.shape)\n",
    "inp"
   ]
  },
  {
   "cell_type": "code",
   "execution_count": null,
   "metadata": {},
   "outputs": [],
   "source": [
    "features"
   ]
  },
  {
   "cell_type": "markdown",
   "metadata": {
    "id": "91mgcQsXeqJY"
   },
   "source": [
    "## 입력 시퀀스 만들기"
   ]
  },
  {
   "cell_type": "code",
   "execution_count": null,
   "metadata": {
    "colab": {
     "base_uri": "https://localhost:8080/"
    },
    "id": "Eeh7GClExagi",
    "outputId": "62f656d1-d0f1-456a-ec6d-abc37ffadc2f"
   },
   "outputs": [],
   "source": [
    "# 주의: 같은 id인 엔진의 데이터로만 학습데이터 스텝을 만들어야 한다\n",
    "n_steps = 50\n",
    "res = []\n",
    "for id in df_train['id'].unique():\n",
    "  res.append(split_seq(df_train[df_train['id']==id][features], n_steps))\n",
    "seq_array = np.concatenate(res)\n",
    "seq_array.shape"
   ]
  },
  {
   "cell_type": "code",
   "execution_count": null,
   "metadata": {
    "colab": {
     "base_uri": "https://localhost:8080/"
    },
    "id": "I_Xa5uNENRuK",
    "outputId": "9f5c8a4a-c4a1-4437-d748-a9e838dd842d"
   },
   "outputs": [],
   "source": [
    "# 각 동일한 엔진에 대한 데이터를 50개씩 사용해야 하므로 샘플수가 줄어들었다\n",
    "# 50개 샘플이 두개의 엔진에 걸쳐 있는 데이터는 버림\n",
    "df_train.shape"
   ]
  },
  {
   "cell_type": "markdown",
   "metadata": {
    "id": "Gc-HOHgpmDtl"
   },
   "source": [
    "## 회귀 모델"
   ]
  },
  {
   "cell_type": "code",
   "execution_count": null,
   "metadata": {
    "colab": {
     "base_uri": "https://localhost:8080/"
    },
    "id": "8uDzNbd9RmjT",
    "outputId": "aa699305-60f5-4382-8281-0e9fb4758c06"
   },
   "outputs": [],
   "source": [
    "# 회귀 레이블 얻기\n",
    "res2 = []\n",
    "label = [\"RUL\"]\n",
    "for id in df_train['id'].unique():\n",
    "  res2.append(df_train[df_train['id']==id][label][n_steps:len(train_df)])\n",
    "label_array = np.concatenate(res2)\n",
    "label_array.shape"
   ]
  },
  {
   "cell_type": "code",
   "execution_count": null,
   "metadata": {
    "id": "eaWpv9ZzRvc2"
   },
   "outputs": [],
   "source": [
    "import keras\n",
    "from keras import Sequential\n",
    "\n",
    "nb_features = seq_array.shape[2]\n",
    "nb_out = label_array.shape[1]\n",
    "\n",
    "model = Sequential()\n",
    "\n",
    "model.add(LSTM(\n",
    "         input_shape=(n_steps, nb_features), # 스텝 수, 특성 수\n",
    "         units=100))                          # 셀의 수\n",
    "\n",
    "model.add(Dense(1)) # 1\n",
    "model.add(Activation(\"linear\"))"
   ]
  },
  {
   "cell_type": "code",
   "execution_count": null,
   "metadata": {
    "colab": {
     "base_uri": "https://localhost:8080/"
    },
    "id": "U2ITz1RuSAO0",
    "outputId": "b3c0e7ed-2bec-4224-b19b-fe9a7bef8638"
   },
   "outputs": [],
   "source": [
    "model.summary()"
   ]
  },
  {
   "cell_type": "code",
   "execution_count": 54,
   "metadata": {
    "colab": {
     "base_uri": "https://localhost:8080/"
    },
    "id": "obgfErfgSOT4",
    "outputId": "53a81d56-63d2-482e-91b2-69bf3193e228"
   },
   "outputs": [
    {
     "name": "stdout",
     "output_type": "stream",
     "text": [
      "Epoch 1/100\n",
      "282/282 - 14s - loss: 6503.4136 - mse: 6503.4136 - val_loss: 7355.1963 - val_mse: 7355.1963 - 14s/epoch - 48ms/step\n",
      "Epoch 2/100\n",
      "282/282 - 7s - loss: 4068.7478 - mse: 4068.7478 - val_loss: 5099.0078 - val_mse: 5099.0078 - 7s/epoch - 24ms/step\n",
      "Epoch 3/100\n",
      "282/282 - 7s - loss: 2767.8184 - mse: 2767.8184 - val_loss: 3624.7349 - val_mse: 3624.7346 - 7s/epoch - 25ms/step\n",
      "Epoch 4/100\n",
      "282/282 - 7s - loss: 1730.2092 - mse: 1730.2092 - val_loss: 2199.9211 - val_mse: 2199.9209 - 7s/epoch - 26ms/step\n",
      "Epoch 5/100\n",
      "282/282 - 7s - loss: 1277.9286 - mse: 1277.9286 - val_loss: 2184.4414 - val_mse: 2184.4414 - 7s/epoch - 27ms/step\n",
      "Epoch 6/100\n",
      "282/282 - 8s - loss: 1020.4630 - mse: 1020.4630 - val_loss: 1671.3948 - val_mse: 1671.3950 - 8s/epoch - 29ms/step\n",
      "Epoch 7/100\n",
      "282/282 - 9s - loss: 893.2122 - mse: 893.2122 - val_loss: 1208.4989 - val_mse: 1208.4989 - 9s/epoch - 33ms/step\n",
      "Epoch 8/100\n",
      "282/282 - 10s - loss: 838.7070 - mse: 838.7070 - val_loss: 1254.0363 - val_mse: 1254.0363 - 10s/epoch - 36ms/step\n",
      "Epoch 9/100\n",
      "282/282 - 10s - loss: 773.3386 - mse: 773.3386 - val_loss: 1345.8816 - val_mse: 1345.8813 - 10s/epoch - 35ms/step\n",
      "Epoch 10/100\n",
      "282/282 - 9s - loss: 739.8831 - mse: 739.8831 - val_loss: 1340.9912 - val_mse: 1340.9912 - 9s/epoch - 33ms/step\n",
      "dict_keys(['loss', 'mse', 'val_loss', 'val_mse'])\n"
     ]
    }
   ],
   "source": [
    "model.compile(loss='mean_squared_error', optimizer='rmsprop',metrics=['mse'])\n",
    "\n",
    "history = model.fit(seq_array, label_array, epochs=100, batch_size=50, validation_split=0.1, verbose=2,\n",
    "          callbacks = [keras.callbacks.EarlyStopping(monitor='val_loss', min_delta=0, patience=3, verbose=0, mode='min')])\n",
    "\n",
    "print(history.history.keys())"
   ]
  },
  {
   "cell_type": "code",
   "execution_count": 55,
   "metadata": {
    "colab": {
     "base_uri": "https://localhost:8080/"
    },
    "id": "QRgEuhKTnYSJ",
    "outputId": "cb8cde81-edff-4d00-9c02-0a28f25aa90c"
   },
   "outputs": [
    {
     "name": "stdout",
     "output_type": "stream",
     "text": [
      "313/313 [==============================] - 3s 8ms/step\n"
     ]
    }
   ],
   "source": [
    "y_pred = model.predict(seq_array,verbose=1, batch_size=50)"
   ]
  },
  {
   "cell_type": "code",
   "execution_count": 56,
   "metadata": {
    "colab": {
     "base_uri": "https://localhost:8080/",
     "height": 437
    },
    "id": "0HgIJhLln8yH",
    "outputId": "1c8141d7-fe7c-4701-92e7-ee00786a9e22"
   },
   "outputs": [
    {
     "name": "stdout",
     "output_type": "stream",
     "text": [
      "MAE= 17.935367407004698\n",
      "rmse= 28.261741897653835\n",
      "max error= 155.96170043945312\n",
      "R2= 0.7553834440136098\n"
     ]
    },
    {
     "data": {
      "image/png": "[encoded data removed]",
      "text/plain": [
       "<Figure size 600x400 with 1 Axes>"
      ]
     },
     "metadata": {
      "image/png": {
       "height": 351,
       "width": 521
      }
     },
     "output_type": "display_data"
    }
   ],
   "source": [
    "show_regression_result(label_array.ravel(), y_pred.ravel(),600)"
   ]
  },
  {
   "cell_type": "markdown",
   "metadata": {
    "id": "gc0a0KKi4jtY"
   },
   "source": [
    "## 테스트 데이터에 적용\n",
    "- 테스트 데이터의 각 엔진별 마지막 50 샘플을 입력으로 사용한다\n",
    "- 마지막 샘플수가 50보다 작은 경우는 테스트할 수 없다"
   ]
  },
  {
   "cell_type": "code",
   "execution_count": 57,
   "metadata": {
    "colab": {
     "base_uri": "https://localhost:8080/"
    },
    "id": "uVUQdvwA4jtY",
    "outputId": "c5e4895d-c298-43b2-d99f-3ca718eed380"
   },
   "outputs": [
    {
     "data": {
      "text/plain": [
       "(93, 50, 24)"
      ]
     },
     "execution_count": 57,
     "metadata": {},
     "output_type": "execute_result"
    }
   ],
   "source": [
    "sequence_cols = features\n",
    "sequence_length = 50\n",
    "seq_array_test_last = [test_df[test_df['id']==id][sequence_cols].values[-sequence_length:]\n",
    "                       for id in test_df['id'].unique() if len(test_df[test_df['id']==id]) >= sequence_length]\n",
    "\n",
    "seq_array_test_last = np.asarray(seq_array_test_last).astype(np.float32)\n",
    "seq_array_test_last.shape"
   ]
  },
  {
   "cell_type": "code",
   "execution_count": 58,
   "metadata": {
    "id": "tWH0A3or4jtY"
   },
   "outputs": [],
   "source": [
    "# test_df의 마지막 샘플의 크기가 50 이상인지를 확인\n",
    "y_mask = [len(test_df[test_df['id']==id]) >= sequence_length for id in test_df['id'].unique()]"
   ]
  },
  {
   "cell_type": "code",
   "execution_count": 59,
   "metadata": {
    "colab": {
     "base_uri": "https://localhost:8080/"
    },
    "id": "8YVwblGheVhj",
    "outputId": "a453eaf2-c983-44ab-8098-9c17919f89b5"
   },
   "outputs": [
    {
     "data": {
      "text/plain": [
       "(100, 93)"
      ]
     },
     "execution_count": 59,
     "metadata": {},
     "output_type": "execute_result"
    }
   ],
   "source": [
    "len(y_mask), np.array(y_mask).sum()"
   ]
  },
  {
   "cell_type": "markdown",
   "metadata": {
    "id": "KrG7mZTK4jtY"
   },
   "source": [
    "- 회귀 레이블 얻기"
   ]
  },
  {
   "cell_type": "code",
   "execution_count": 60,
   "metadata": {
    "colab": {
     "base_uri": "https://localhost:8080/"
    },
    "id": "WFu77IJyJcH_",
    "outputId": "f5870f81-791e-4005-e64d-d6de568879d4"
   },
   "outputs": [
    {
     "data": {
      "text/plain": [
       "array([ 69,  82,  91,  93,  91,  95, 111,  96,  97, 124,  95,  83,  84,\n",
       "        50,  28,  87,  16,  57, 113,  20, 119,  66,  97,  90, 115,   8,\n",
       "        48, 106,   7,  11,  19,  21,  50,  28,  18,  10,  59, 109, 114,\n",
       "        47, 135,  92,  21,  79, 114,  29,  26,  97, 137,  15, 103,  37,\n",
       "       114, 100,  21,  54,  72,  28, 128,  14,  77,   8, 121,  94, 118,\n",
       "        50, 131, 126, 113,  10,  34, 107,  63,  90,   8,   9, 137,  58,\n",
       "        89, 116, 115, 136,  28,  38,  20,  85,  55, 128, 137,  82,  59,\n",
       "       117,  20], dtype=int64)"
      ]
     },
     "execution_count": 60,
     "metadata": {},
     "output_type": "execute_result"
    }
   ],
   "source": [
    "y_test = test_df.groupby('id')['RUL'].nth(-1)[y_mask].values\n",
    "y_test"
   ]
  },
  {
   "cell_type": "code",
   "execution_count": 61,
   "metadata": {
    "colab": {
     "base_uri": "https://localhost:8080/"
    },
    "id": "HSJ2PBcV4jtY",
    "outputId": "b49359f6-1c4e-4cac-be92-e9f05c826753"
   },
   "outputs": [
    {
     "data": {
      "text/plain": [
       "(93, 1)"
      ]
     },
     "execution_count": 61,
     "metadata": {},
     "output_type": "execute_result"
    }
   ],
   "source": [
    "label_array_test_last = test_df.groupby('id')['RUL'].nth(-1)[y_mask].values\n",
    "label_array_test_last = label_array_test_last.reshape(label_array_test_last.shape[0],1).astype(np.float32)\n",
    "label_array_test_last.shape"
   ]
  },
  {
   "cell_type": "code",
   "execution_count": 62,
   "metadata": {
    "colab": {
     "base_uri": "https://localhost:8080/"
    },
    "id": "4QQtBEKP4jtY",
    "outputId": "d9f7addb-79ad-408c-8364-defc46b02c1b"
   },
   "outputs": [
    {
     "name": "stdout",
     "output_type": "stream",
     "text": [
      "(93, 50, 24)\n",
      "(93, 1)\n"
     ]
    }
   ],
   "source": [
    "print(seq_array_test_last.shape)\n",
    "print(label_array_test_last.shape)"
   ]
  },
  {
   "cell_type": "code",
   "execution_count": 63,
   "metadata": {
    "colab": {
     "base_uri": "https://localhost:8080/"
    },
    "id": "1vMr2Hr2HG1S",
    "outputId": "1aadd75c-acec-45da-d865-11c708033db1"
   },
   "outputs": [
    {
     "name": "stdout",
     "output_type": "stream",
     "text": [
      "3/3 [==============================] - 0s 6ms/step\n"
     ]
    }
   ],
   "source": [
    "y_pred = model.predict(seq_array_test_last)"
   ]
  },
  {
   "cell_type": "code",
   "execution_count": 64,
   "metadata": {
    "colab": {
     "base_uri": "https://localhost:8080/",
     "height": 438
    },
    "id": "QrRoExoe4jtY",
    "outputId": "ba4c1cbc-beef-4c23-9d2d-516c5bb318c5"
   },
   "outputs": [
    {
     "name": "stdout",
     "output_type": "stream",
     "text": [
      "MAE= 13.710741217418384\n",
      "rmse= 19.14614944504944\n",
      "max error= 77.04267883300781\n",
      "R2= 0.7822372571416689\n"
     ]
    },
    {
     "data": {
      "image/png": "[encoded data removed]",
      "text/plain": [
       "<Figure size 600x400 with 1 Axes>"
      ]
     },
     "metadata": {
      "image/png": {
       "height": 353,
       "width": 521
      }
     },
     "output_type": "display_data"
    }
   ],
   "source": [
    "# 회귀 성능\n",
    "show_regression_result(y_test, y_pred.ravel(),100)"
   ]
  },
  {
   "cell_type": "markdown",
   "metadata": {
    "id": "xaM4CVE1mSfe"
   },
   "source": [
    "## 이진 분류 모델"
   ]
  },
  {
   "cell_type": "code",
   "execution_count": 65,
   "metadata": {
    "colab": {
     "base_uri": "https://localhost:8080/"
    },
    "id": "R8kVtqvU1TgF",
    "outputId": "0cc202cd-a7a0-4a5c-c13c-00d9b7557013"
   },
   "outputs": [
    {
     "data": {
      "text/plain": [
       "(15631, 1)"
      ]
     },
     "execution_count": 65,
     "metadata": {},
     "output_type": "execute_result"
    }
   ],
   "source": [
    "# 이진분류 레이블 얻기\n",
    "res2 = []\n",
    "label = [\"label\"]\n",
    "for id in train_df['id'].unique():\n",
    "  res2.append(train_df[train_df['id']==id][label][n_steps:len(train_df)])\n",
    "label_array = np.concatenate(res2)\n",
    "label_array.shape"
   ]
  },
  {
   "cell_type": "markdown",
   "metadata": {},
   "source": [
    "- softmax 대신 sigmoid를 사용할 수 있다 (이진 분류시)\n",
    "- loss='binary_crossentropy'로 지정해야 한다"
   ]
  },
  {
   "cell_type": "code",
   "execution_count": 66,
   "metadata": {
    "id": "qwaScnGI4jtX"
   },
   "outputs": [],
   "source": [
    "nb_features = seq_array.shape[2]\n",
    "nb_out = label_array.shape[1]\n",
    "\n",
    "model = Sequential()\n",
    "\n",
    "model.add(LSTM(\n",
    "         input_shape=(n_steps, nb_features), # 스텝 수, 특성 수\n",
    "         units=100))                          # 셀의 수\n",
    "\n",
    "model.add(Dense(units=nb_out, activation='sigmoid'))"
   ]
  },
  {
   "cell_type": "code",
   "execution_count": 67,
   "metadata": {
    "colab": {
     "base_uri": "https://localhost:8080/"
    },
    "id": "Y7PfcjXd4jtX",
    "outputId": "2781170c-9c80-4e8a-d9d1-3697111d6689"
   },
   "outputs": [
    {
     "name": "stdout",
     "output_type": "stream",
     "text": [
      "Model: \"sequential_1\"\n",
      "_________________________________________________________________\n",
      " Layer (type)                Output Shape              Param #   \n",
      "=================================================================\n",
      " lstm_1 (LSTM)               (None, 100)               50000     \n",
      "                                                                 \n",
      " dense_1 (Dense)             (None, 1)                 101       \n",
      "                                                                 \n",
      "=================================================================\n",
      "Total params: 50101 (195.71 KB)\n",
      "Trainable params: 50101 (195.71 KB)\n",
      "Non-trainable params: 0 (0.00 Byte)\n",
      "_________________________________________________________________\n",
      "None\n"
     ]
    }
   ],
   "source": [
    "print(model.summary())"
   ]
  },
  {
   "cell_type": "code",
   "execution_count": 68,
   "metadata": {
    "colab": {
     "base_uri": "https://localhost:8080/"
    },
    "id": "sE0atuQlWjWv",
    "outputId": "e97ed4d2-9de2-4e0a-a955-9be61e2c6575"
   },
   "outputs": [
    {
     "data": {
      "text/plain": [
       "((15631, 50, 24), (15631, 1))"
      ]
     },
     "execution_count": 68,
     "metadata": {},
     "output_type": "execute_result"
    }
   ],
   "source": [
    "seq_array.shape, label_array.shape"
   ]
  },
  {
   "cell_type": "code",
   "execution_count": 69,
   "metadata": {
    "colab": {
     "base_uri": "https://localhost:8080/"
    },
    "id": "GJTno9tG4jtX",
    "outputId": "10e60cdc-a8c3-44dd-ecce-d321c3a79eb4"
   },
   "outputs": [
    {
     "name": "stdout",
     "output_type": "stream",
     "text": [
      "Epoch 1/100\n",
      "71/71 [==============================] - 9s 87ms/step - loss: 0.3246 - accuracy: 0.8575 - val_loss: 0.1837 - val_accuracy: 0.9239\n",
      "Epoch 2/100\n",
      "71/71 [==============================] - 5s 73ms/step - loss: 0.1401 - accuracy: 0.9473 - val_loss: 0.1665 - val_accuracy: 0.9335\n",
      "Epoch 3/100\n",
      "71/71 [==============================] - 5s 70ms/step - loss: 0.1209 - accuracy: 0.9527 - val_loss: 0.1223 - val_accuracy: 0.9418\n",
      "Epoch 4/100\n",
      "71/71 [==============================] - 4s 64ms/step - loss: 0.0971 - accuracy: 0.9612 - val_loss: 0.0727 - val_accuracy: 0.9687\n",
      "Epoch 5/100\n",
      "71/71 [==============================] - 5s 71ms/step - loss: 0.0955 - accuracy: 0.9606 - val_loss: 0.1208 - val_accuracy: 0.9450\n",
      "Epoch 6/100\n",
      "71/71 [==============================] - 5s 68ms/step - loss: 0.0902 - accuracy: 0.9613 - val_loss: 0.0836 - val_accuracy: 0.9584\n",
      "Epoch 7/100\n",
      "71/71 [==============================] - 5s 74ms/step - loss: 0.0837 - accuracy: 0.9664 - val_loss: 0.1017 - val_accuracy: 0.9546\n",
      "CPU times: total: 2min 31s\n",
      "Wall time: 38.9 s\n"
     ]
    },
    {
     "data": {
      "text/plain": [
       "<keras.src.callbacks.History at 0x209b7908cd0>"
      ]
     },
     "execution_count": 69,
     "metadata": {},
     "output_type": "execute_result"
    }
   ],
   "source": [
    "%%time\n",
    "# fit the network\n",
    "model.compile(loss='binary_crossentropy', optimizer='adam', metrics=['accuracy'])\n",
    "model.fit(seq_array, label_array, epochs=100, batch_size=200, validation_split=0.1, verbose=1,\n",
    "          callbacks = [keras.callbacks.EarlyStopping(monitor='val_loss', patience=3, verbose=0, mode='auto')])"
   ]
  },
  {
   "cell_type": "code",
   "execution_count": 71,
   "metadata": {
    "colab": {
     "base_uri": "https://localhost:8080/"
    },
    "id": "rIIYtlYCa8z0",
    "outputId": "6eef701d-af0b-4b49-c723-9953fc83a6c9"
   },
   "outputs": [
    {
     "data": {
      "text/plain": [
       "(93, 1)"
      ]
     },
     "execution_count": 71,
     "metadata": {},
     "output_type": "execute_result"
    }
   ],
   "source": [
    "label_array_test_last = test_df.groupby('id')['label'].nth(-1)[y_mask].values\n",
    "label_array_test_last = label_array_test_last.reshape(label_array_test_last.shape[0],1)\n",
    "label_array_test_last.shape"
   ]
  },
  {
   "cell_type": "code",
   "execution_count": 72,
   "metadata": {
    "colab": {
     "base_uri": "https://localhost:8080/"
    },
    "id": "C4WZhtvv4jtX",
    "outputId": "e845f9fa-bd73-485d-de02-418e99bbff8a"
   },
   "outputs": [
    {
     "name": "stdout",
     "output_type": "stream",
     "text": [
      "3/3 [==============================] - 1s 7ms/step\n",
      "[[67  1]\n",
      " [ 6 19]]\n",
      "              precision    recall  f1-score   support\n",
      "\n",
      "           0       0.92      0.99      0.95        68\n",
      "           1       0.95      0.76      0.84        25\n",
      "\n",
      "    accuracy                           0.92        93\n",
      "   macro avg       0.93      0.87      0.90        93\n",
      "weighted avg       0.93      0.92      0.92        93\n",
      "\n"
     ]
    }
   ],
   "source": [
    "# 이진 분류 확률을 얻는다\n",
    "y_pred_test = model.predict(seq_array_test_last)\n",
    "show_clf_result(label_array_test_last, y_pred_test > 0.5)"
   ]
  },
  {
   "cell_type": "code",
   "execution_count": null,
   "metadata": {},
   "outputs": [],
   "source": []
  }
 ],
 "metadata": {
  "accelerator": "GPU",
  "anaconda-cloud": {},
  "colab": {
   "provenance": [],
   "toc_visible": true
  },
  "gpuClass": "standard",
  "kernelspec": {
   "display_name": "Python 3",
   "language": "python",
   "name": "python3"
  },
  "language_info": {
   "codemirror_mode": {
    "name": "ipython",
    "version": 3
   },
   "file_extension": ".py",
   "mimetype": "text/x-python",
   "name": "python",
   "nbconvert_exporter": "python",
   "pygments_lexer": "ipython3",
   "version": "3.8.8"
  },
  "toc": {
   "base_numbering": 1,
   "nav_menu": {},
   "number_sections": false,
   "sideBar": true,
   "skip_h1_title": false,
   "title_cell": "Table of Contents",
   "title_sidebar": "Contents",
   "toc_cell": false,
   "toc_position": {},
   "toc_section_display": true,
   "toc_window_display": true
  }
 },
 "nbformat": 4,
 "nbformat_minor": 1
}
